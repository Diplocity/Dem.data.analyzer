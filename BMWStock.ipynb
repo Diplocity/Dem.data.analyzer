{
  "nbformat": 4,
  "nbformat_minor": 0,
  "metadata": {
    "colab": {
      "provenance": [],
      "authorship_tag": "ABX9TyNAru+pkQxxt2jL35iNsAk4",
      "include_colab_link": true
    },
    "kernelspec": {
      "name": "python3",
      "display_name": "Python 3"
    },
    "language_info": {
      "name": "python"
    }
  },
  "cells": [
    {
      "cell_type": "markdown",
      "metadata": {
        "id": "view-in-github",
        "colab_type": "text"
      },
      "source": [
        "<a href=\"https://colab.research.google.com/github/Diplocity/Dem.data.analyzer/blob/main/BMWStock.ipynb\" target=\"_parent\"><img src=\"https://colab.research.google.com/assets/colab-badge.svg\" alt=\"Open In Colab\"/></a>"
      ]
    },
    {
      "cell_type": "code",
      "execution_count": null,
      "metadata": {
        "colab": {
          "base_uri": "https://localhost:8080/"
        },
        "id": "sw1cDmNbmA6K",
        "outputId": "071b410e-0856-4abb-a58d-aadd72f5e8fb"
      },
      "outputs": [
        {
          "output_type": "stream",
          "name": "stdout",
          "text": [
            "Fetching data...\n"
          ]
        },
        {
          "output_type": "stream",
          "name": "stderr",
          "text": [
            "\r[*********************100%%**********************]  1 of 1 completed\n"
          ]
        },
        {
          "output_type": "stream",
          "name": "stdout",
          "text": [
            "Data fetched successfully. Number of records: 381\n",
            "Creating candlestick chart...\n",
            "Saving the chart as HTML...\n",
            "Chart saved as bmw_stock_price.html\n",
            "Script finished successfully.\n"
          ]
        }
      ],
      "source": [
        "import yfinance as yf\n",
        "import plotly.graph_objs as go\n",
        "\n",
        "# Fetching data from January 1, 2023, to June 30, 2024\n",
        "start_date = \"2023-01-01\"\n",
        "end_date = \"2024-06-30\"\n",
        "\n",
        "# BMW ticker symbol on Yahoo Finance\n",
        "ticker = 'BMW.DE'\n",
        "\n",
        "# Fetch the stock data\n",
        "try:\n",
        "    print(\"Fetching data...\")\n",
        "    bmw_data = yf.download(ticker, start=start_date, end=end_date)\n",
        "    if bmw_data.empty:\n",
        "        print(\"No data fetched. Check the ticker symbol and date range.\")\n",
        "    else:\n",
        "        print(f\"Data fetched successfully. Number of records: {len(bmw_data)}\")\n",
        "except Exception as e:\n",
        "    print(f\"Error fetching data: {e}\")\n",
        "    raise\n",
        "\n",
        "# ==============================\n",
        "# Candlestick Chart Section\n",
        "# ==============================\n",
        "try:\n",
        "    print(\"Creating candlestick chart...\")\n",
        "    fig = go.Figure(data=[go.Candlestick(x=bmw_data.index,\n",
        "                                         open=bmw_data['Open'],\n",
        "                                         high=bmw_data['High'],\n",
        "                                         low=bmw_data['Low'],\n",
        "                                         close=bmw_data['Close'])])\n",
        "\n",
        "    # Add titles and labels to the candlestick chart\n",
        "    fig.update_layout(title='BMW Stock Price (January 2023 - June 2024)',\n",
        "                      yaxis_title='Stock Price (EUR)',\n",
        "                      xaxis_title='Date')\n",
        "\n",
        "    # ==============================\n",
        "    # Range Slider Section\n",
        "    # ==============================\n",
        "    fig.update_layout(\n",
        "        xaxis=dict(\n",
        "            rangeslider=dict(\n",
        "                visible=True  # This enables the range slider\n",
        "            ),\n",
        "            type=\"date\"  # Ensures the x-axis is treated as date values\n",
        "        )\n",
        "    )\n",
        "\n",
        "    # Save the plot as an HTML file\n",
        "    print(\"Saving the chart as HTML...\")\n",
        "    fig.write_html(\"bmw_stock_price.html\")\n",
        "    print(\"Chart saved as bmw_stock_price.html\")\n",
        "\n",
        "    # Optionally, you can also display the plot in the browser\n",
        "    # fig.show()\n",
        "\n",
        "except Exception as e:\n",
        "    print(f\"Error creating or saving the chart: {e}\")\n",
        "    raise\n",
        "\n",
        "print(\"Script finished successfully.\")\n"
      ]
    }
  ]
}